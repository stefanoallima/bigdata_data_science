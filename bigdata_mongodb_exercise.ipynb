{
  "nbformat": 4,
  "nbformat_minor": 0,
  "metadata": {
    "colab": {
      "name": "bigdata mongodb exercise",
      "provenance": [],
      "collapsed_sections": []
    },
    "kernelspec": {
      "name": "python3",
      "display_name": "Python 3"
    }
  },
  "cells": [
    {
      "cell_type": "markdown",
      "metadata": {
        "id": "064iaWgf_DiW"
      },
      "source": [
        "\n",
        "i. Todos los restaurantes de la base de datos.\n",
        "\n"
      ]
    },
    {
      "cell_type": "code",
      "metadata": {
        "id": "SPQkhQdb_DWZ"
      },
      "source": [
        "db.restaurant.find();"
      ],
      "execution_count": null,
      "outputs": []
    },
    {
      "cell_type": "markdown",
      "metadata": {
        "id": "B93Gl3Tb_DIe"
      },
      "source": [
        "ii. Todos los restaurantes: únicamente los campos restaurant_id, name, cuisine."
      ]
    },
    {
      "cell_type": "code",
      "metadata": {
        "id": "AIXtV5Np_C6L"
      },
      "source": [
        "db.restaurant.find({}, {restaurant_id : 1, name : 1, cuisine : 1} );"
      ],
      "execution_count": null,
      "outputs": []
    },
    {
      "cell_type": "markdown",
      "metadata": {
        "id": "M5YQYoEq_CoJ"
      },
      "source": [
        "iii.Todos los restaurantes: únicamente los campos restaurant_id, name, zipcode y SIN _id."
      ]
    },
    {
      "cell_type": "code",
      "metadata": {
        "id": "Cx_dknV__CLP"
      },
      "source": [
        "db.restaurant.find({}, {restaurant_id : 1, name : 1, \"address.zipcode\" : 1, _id : 0} );"
      ],
      "execution_count": null,
      "outputs": []
    },
    {
      "cell_type": "markdown",
      "metadata": {
        "id": "Rbw8kskK--lT"
      },
      "source": [
        "iv.Restaurante en el borough “Manhattan”."
      ]
    },
    {
      "cell_type": "code",
      "metadata": {
        "id": "C2qvtPKB--WP"
      },
      "source": [
        "db.restaurant.find({borough : \"Manhattan\"});"
      ],
      "execution_count": null,
      "outputs": []
    },
    {
      "cell_type": "markdown",
      "metadata": {
        "id": "9s82RW0U--GN"
      },
      "source": [
        "v. Restaurantes con score mayor que 90."
      ]
    },
    {
      "cell_type": "code",
      "metadata": {
        "id": "BuDl0ITi-909"
      },
      "source": [
        "db.restaurant.find({grades: {$elemMatch:{\"score\" : {$gt: 90}}}});"
      ],
      "execution_count": null,
      "outputs": []
    },
    {
      "cell_type": "markdown",
      "metadata": {
        "id": "Z2_NiZ4C-9h8"
      },
      "source": [
        "vi. Restaurante con score mayor que 80 y menor que 90."
      ]
    },
    {
      "cell_type": "code",
      "metadata": {
        "id": "GpdznHjh-9Oa"
      },
      "source": [
        "db.restaurant.find({grades : { $elemMatch:{\"score\":{$gt : 80 , $lt :90}}}});"
      ],
      "execution_count": null,
      "outputs": []
    },
    {
      "cell_type": "markdown",
      "metadata": {
        "id": "FNtnlGUh-8te"
      },
      "source": [
        "vii. Restaurantes ubicados en latitude menor a -95.754168."
      ]
    },
    {
      "cell_type": "code",
      "metadata": {
        "id": "Y03a_mZ6-8OB"
      },
      "source": [
        "db.restaurant.find({\"address.coord\" : {$lt : -95.754168}});"
      ],
      "execution_count": null,
      "outputs": []
    },
    {
      "cell_type": "markdown",
      "metadata": {
        "id": "qgT_zRgGAYfG"
      },
      "source": [
        "viii. Restaurantes para los cuales cuisine es diferente de “American”, tiene un grade de “A” y no pertenece al borough “Brooklyn”."
      ]
    },
    {
      "cell_type": "code",
      "metadata": {
        "id": "tNd2YaM9AZLa"
      },
      "source": [
        "db.restaurant.find(\n",
        "     { $and:\n",
        "        [ \n",
        "          {\"cuisine\" : {$ne : \"American\"}},\n",
        "          {\"grades.grade\" : {$eq : \"A\"}}, \n",
        "          {\"borough\" : {$ne : \"Brooklyn\"}}\n",
        "        ]\n",
        "    }\n",
        "                  );\n"
      ],
      "execution_count": null,
      "outputs": []
    },
    {
      "cell_type": "markdown",
      "metadata": {
        "id": "8lmuv3RYAffT"
      },
      "source": [
        "ix. Restaurantes en los cuales el nombre comienza por la palabra “Wil”. (Hint: usar expresión regular sobre el campo name)."
      ]
    },
    {
      "cell_type": "code",
      "metadata": {
        "id": "lZtxDSpiAgTm"
      },
      "source": [
        "db.restaurant.find( { name: { $regex: /^Wil/  } } );"
      ],
      "execution_count": null,
      "outputs": []
    },
    {
      "cell_type": "markdown",
      "metadata": {
        "id": "UUI4otPnAwR3"
      },
      "source": [
        "x. Restaurantes en los cuales la cuisine NO es “American” NI “Chinese” O el name comienza por la palabra “Wil”. (Hint: utilizar los operadores $or y $and)."
      ]
    },
    {
      "cell_type": "code",
      "metadata": {
        "id": "AWlQE7FoAwkH"
      },
      "source": [
        "db.restaurant.find(\n",
        "{$or: [\n",
        "  {\"name\": {$regex: /^Wil/}}, \n",
        "  {$and: [\n",
        "       {\"cuisine\" : {$ne :\"American \"}}, \n",
        "       {\"cuisine\" : {$ne :\"Chinese\"}}\n",
        "   ]}\n",
        "]}\n",
        ");\n"
      ],
      "execution_count": null,
      "outputs": []
    },
    {
      "cell_type": "markdown",
      "metadata": {
        "id": "vv_owqnP6SHl"
      },
      "source": [
        "xi. Restaurantes ordenados en ascendentemente por el name."
      ]
    },
    {
      "cell_type": "code",
      "metadata": {
        "id": "Lxqt_LFV6XeJ"
      },
      "source": [
        "db.restaurant.find().sort({name : 1});"
      ],
      "execution_count": null,
      "outputs": []
    },
    {
      "cell_type": "markdown",
      "metadata": {
        "id": "aJLo2dcKrHDs"
      },
      "source": [
        "xii. Restaurantes para los cuales el address.street existe. (Hint: utilizar operador $exists)."
      ]
    },
    {
      "cell_type": "code",
      "metadata": {
        "id": "4-jeKoIZ6dXa"
      },
      "source": [
        " db.restaurant.find( { \"address.street\" : { $exists : true } } );"
      ],
      "execution_count": null,
      "outputs": []
    }
  ]
}