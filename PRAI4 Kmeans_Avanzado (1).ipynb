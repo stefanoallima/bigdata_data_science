{
 "cells": [
  {
   "cell_type": "markdown",
   "metadata": {
    "toc": true
   },
   "source": [
    "<h1>Table of Contents<span class=\"tocSkip\"></span></h1>\n",
    "<div class=\"toc\"><ul class=\"toc-item\"><li><span><a href=\"#PRAI-Bigdata-modulo-4\" data-toc-modified-id=\"PRAI-Bigdata-modulo-4-1\"><span class=\"toc-item-num\">1&nbsp;&nbsp;</span>PRAI Bigdata modulo 4</a></span><ul class=\"toc-item\"><li><span><a href=\"#Stefano\" data-toc-modified-id=\"Stefano-1.1\"><span class=\"toc-item-num\">1.1&nbsp;&nbsp;</span>Stefano</a></span></li><li><span><a href=\"#Preguntas-de-la-Tarea\" data-toc-modified-id=\"Preguntas-de-la-Tarea-1.2\"><span class=\"toc-item-num\">1.2&nbsp;&nbsp;</span>Preguntas de la Tarea</a></span><ul class=\"toc-item\"><li><span><a href=\"#1.-¿Cuál-es-la-importancia-del-Análisis-del-Modelo-K-means?\" data-toc-modified-id=\"1.-¿Cuál-es-la-importancia-del-Análisis-del-Modelo-K-means?-1.2.1\"><span class=\"toc-item-num\">1.2.1&nbsp;&nbsp;</span>1. ¿Cuál es la importancia del Análisis del Modelo K-means?</a></span></li><li><span><a href=\"#2.-La-descripción-visual-de-los-datos-cargados\" data-toc-modified-id=\"2.-La-descripción-visual-de-los-datos-cargados-1.2.2\"><span class=\"toc-item-num\">1.2.2&nbsp;&nbsp;</span>2. La descripción visual de los datos cargados</a></span></li><li><span><a href=\"#3.-La-estimación-de-agrupamiento-data-para-el-modelo-Kmeans-(¿Cuántos-clúster-se-estimaron-y-con-qué-datos-quedaron-compuestos?)\" data-toc-modified-id=\"3.-La-estimación-de-agrupamiento-data-para-el-modelo-Kmeans-(¿Cuántos-clúster-se-estimaron-y-con-qué-datos-quedaron-compuestos?)-1.2.3\"><span class=\"toc-item-num\">1.2.3&nbsp;&nbsp;</span>3. La estimación de agrupamiento data para el modelo Kmeans (¿Cuántos clúster se estimaron y con qué datos quedaron compuestos?)</a></span></li><li><span><a href=\"#4.-¿Cuánto-dio-el-indicador-de-similitud-del-agrupamiento?-Interpretar-el-resultado\" data-toc-modified-id=\"4.-¿Cuánto-dio-el-indicador-de-similitud-del-agrupamiento?-Interpretar-el-resultado-1.2.4\"><span class=\"toc-item-num\">1.2.4&nbsp;&nbsp;</span>4. ¿Cuánto dio el indicador de similitud del agrupamiento? Interpretar el resultado</a></span></li></ul></li></ul></li></ul></div>"
   ]
  },
  {
   "cell_type": "markdown",
   "metadata": {},
   "source": [
    "# PRAI Bigdata modulo 4\n",
    "## Stefano\n",
    "\n",
    "\n",
    "## Preguntas de la Tarea\n",
    "### 1. ¿Cuál es la importancia del Análisis del Modelo K-means?\n",
    "\n",
    "K means es una tecnica de clustering de unsupervised machine learning para el agrupamiento de las observaciones en grupos. Siendo un unsupervised learning tiene un proceso de apprendizaje automatico sin necesitad de etiquetar los datos. Esto es posible por el algoritmo de k-means que hace iteraciones de asignacion de los centroides y al calculo de la distancia entre ellos y cada observacion.\n",
    "\n",
    "\n",
    "### 2. La descripción visual de los datos cargados\n",
    "\n",
    "Los datos cargados estan en el formato 'libsvm' un formato muy usado en el machine learning para reducir el tamaño de los datos. Particularmente util en el caso de dataset que tienen muchos columnas con muchos zeros (AKA'Sparse datasets'). Por esto 'libsvm' format tiene solo los datos que no son cero usando el index en frente. \n",
    "El dataset 'sample_kmeans_data.txt' tiene 5 observaciones con 3 variables. Todas la variables tienen los mismo valores para cada una de las observaciones (http://eric.univ-lyon2.fr/~ricco/tanagra/fichiers/en_Tanagra_Sparse_File_Format.pdf)\n",
    "\n",
    "\n",
    "###  3. La estimación de agrupamiento data para el modelo Kmeans (¿Cuántos clúster se estimaron y con qué datos quedaron compuestos?)\n",
    "\n",
    "Se estimaron 2 clusters: \n",
    "- cluster 0 lleva las primera 3 observaciones \n",
    "- cluster 1 lleva las restante 2 observaciones \n",
    "\n",
    "\n",
    "### 4. ¿Cuánto dio el indicador de similitud del agrupamiento? Interpretar el resultado\n",
    "\n",
    "indicator with euclidean distance = 0.9997530305375207\n",
    "el resultado del indicator es muy alto, los 2 centroides definidos por el Kmeans tienen una distancias desde las observaciones muy bajas. Esto siñifica que son agrupamiento buenos."
   ]
  },
  {
   "cell_type": "code",
   "execution_count": 2,
   "metadata": {},
   "outputs": [],
   "source": [
    "##TALLER IMPLEMENTACION K-MEANS\n",
    "#Se entrega archivo \"sample_kmeans_data.txt\" el cual se debe cargar para realizar el Taller"
   ]
  },
  {
   "cell_type": "code",
   "execution_count": 3,
   "metadata": {},
   "outputs": [],
   "source": [
    "# k-means es uno de los algoritmos de agrupamiento más utilizados que agrupa los puntos de datos en un número predefinido de grupos.\n",
    "# KMeans se implementa como un Estimador"
   ]
  },
  {
   "cell_type": "code",
   "execution_count": 4,
   "metadata": {},
   "outputs": [
    {
     "data": {
      "text/html": [
       "<style scoped>\n",
       "  .ansiout {\n",
       "    display: block;\n",
       "    unicode-bidi: embed;\n",
       "    white-space: pre-wrap;\n",
       "    word-wrap: break-word;\n",
       "    word-break: break-all;\n",
       "    font-family: \"Source Code Pro\", \"Menlo\", monospace;;\n",
       "    font-size: 13px;\n",
       "    color: #555;\n",
       "    margin-left: 4px;\n",
       "    line-height: 19px;\n",
       "  }\n",
       "</style>\n",
       "<div class=\"ansiout\"></div>"
      ]
     },
     "metadata": {},
     "output_type": "display_data"
    }
   ],
   "source": [
    "#Importación de librerías\n",
    "from pyspark.ml.clustering import KMeans\n",
    "from pyspark.ml.evaluation import ClusteringEvaluator"
   ]
  },
  {
   "cell_type": "code",
   "execution_count": 5,
   "metadata": {},
   "outputs": [
    {
     "data": {
      "text/html": [
       "<style scoped>\n",
       "  .table-result-container {\n",
       "    max-height: 300px;\n",
       "    overflow: auto;\n",
       "  }\n",
       "  table, th, td {\n",
       "    border: 1px solid black;\n",
       "    border-collapse: collapse;\n",
       "  }\n",
       "  th, td {\n",
       "    padding: 5px;\n",
       "  }\n",
       "  th {\n",
       "    text-align: left;\n",
       "  }\n",
       "</style><div class='table-result-container'><table class='table-result'><thead style='background-color: white'><tr><th>label</th><th>features</th></tr></thead><tbody><tr><td>0.0</td><td>List(0, 3, List(), List())</td></tr><tr><td>1.0</td><td>List(0, 3, List(0, 1, 2), List(0.1, 0.1, 0.1))</td></tr><tr><td>2.0</td><td>List(0, 3, List(0, 1, 2), List(0.2, 0.2, 0.2))</td></tr><tr><td>3.0</td><td>List(0, 3, List(0, 1, 2), List(9.0, 9.0, 9.0))</td></tr><tr><td>4.0</td><td>List(0, 3, List(0, 1, 2), List(9.1, 9.1, 9.1))</td></tr><tr><td>5.0</td><td>List(0, 3, List(0, 1, 2), List(9.2, 9.2, 9.2))</td></tr></tbody></table></div>"
      ]
     },
     "metadata": {},
     "output_type": "display_data"
    }
   ],
   "source": [
    "# Cargar y visualizar los datos\n",
    "dataset = spark.read.format(\"libsvm\").load(\"/FileStore/tables/sample_kmeans_data-2.txt\")\n",
    "display(dataset)"
   ]
  },
  {
   "cell_type": "code",
   "execution_count": 6,
   "metadata": {},
   "outputs": [
    {
     "data": {
      "text/html": [
       "<style scoped>\n",
       "  .ansiout {\n",
       "    display: block;\n",
       "    unicode-bidi: embed;\n",
       "    white-space: pre-wrap;\n",
       "    word-wrap: break-word;\n",
       "    word-break: break-all;\n",
       "    font-family: \"Source Code Pro\", \"Menlo\", monospace;;\n",
       "    font-size: 13px;\n",
       "    color: #555;\n",
       "    margin-left: 4px;\n",
       "    line-height: 19px;\n",
       "  }\n",
       "</style>\n",
       "<div class=\"ansiout\"></div>"
      ]
     },
     "metadata": {},
     "output_type": "display_data"
    }
   ],
   "source": [
    "# Entrenamiento del modelo k-means\n",
    "kmeans = KMeans().setK(2).setSeed(1)\n",
    "model = kmeans.fit(dataset)"
   ]
  },
  {
   "cell_type": "code",
   "execution_count": 7,
   "metadata": {},
   "outputs": [
    {
     "data": {
      "text/html": [
       "<style scoped>\n",
       "  .table-result-container {\n",
       "    max-height: 300px;\n",
       "    overflow: auto;\n",
       "  }\n",
       "  table, th, td {\n",
       "    border: 1px solid black;\n",
       "    border-collapse: collapse;\n",
       "  }\n",
       "  th, td {\n",
       "    padding: 5px;\n",
       "  }\n",
       "  th {\n",
       "    text-align: left;\n",
       "  }\n",
       "</style><div class='table-result-container'><table class='table-result'><thead style='background-color: white'><tr><th>label</th><th>features</th><th>prediction</th></tr></thead><tbody><tr><td>0.0</td><td>List(0, 3, List(), List())</td><td>0</td></tr><tr><td>1.0</td><td>List(0, 3, List(0, 1, 2), List(0.1, 0.1, 0.1))</td><td>0</td></tr><tr><td>2.0</td><td>List(0, 3, List(0, 1, 2), List(0.2, 0.2, 0.2))</td><td>0</td></tr><tr><td>3.0</td><td>List(0, 3, List(0, 1, 2), List(9.0, 9.0, 9.0))</td><td>1</td></tr><tr><td>4.0</td><td>List(0, 3, List(0, 1, 2), List(9.1, 9.1, 9.1))</td><td>1</td></tr><tr><td>5.0</td><td>List(0, 3, List(0, 1, 2), List(9.2, 9.2, 9.2))</td><td>1</td></tr></tbody></table></div>"
      ]
     },
     "metadata": {},
     "output_type": "display_data"
    }
   ],
   "source": [
    "# Hacer predicciones de agrupamiento (clustering)\n",
    "predictions = model.transform(dataset)\n",
    "display(predictions)"
   ]
  },
  {
   "cell_type": "code",
   "execution_count": 8,
   "metadata": {},
   "outputs": [
    {
     "data": {
      "text/html": [
       "<style scoped>\n",
       "  .ansiout {\n",
       "    display: block;\n",
       "    unicode-bidi: embed;\n",
       "    white-space: pre-wrap;\n",
       "    word-wrap: break-word;\n",
       "    word-break: break-all;\n",
       "    font-family: \"Source Code Pro\", \"Menlo\", monospace;;\n",
       "    font-size: 13px;\n",
       "    color: #555;\n",
       "    margin-left: 4px;\n",
       "    line-height: 19px;\n",
       "  }\n",
       "</style>\n",
       "<div class=\"ansiout\">indicator with euclidean distance = 0.9997530305375207\n",
       "</div>"
      ]
     },
     "metadata": {},
     "output_type": "display_data"
    }
   ],
   "source": [
    "# Evaluación del agrupamiento \n",
    "evaluator = ClusteringEvaluator()\n",
    "\n",
    "indicator = evaluator.evaluate(predictions)\n",
    "print(\"indicator with euclidean distance = \" + str(indicator))"
   ]
  },
  {
   "cell_type": "code",
   "execution_count": 9,
   "metadata": {},
   "outputs": [
    {
     "data": {
      "text/html": [
       "<style scoped>\n",
       "  .ansiout {\n",
       "    display: block;\n",
       "    unicode-bidi: embed;\n",
       "    white-space: pre-wrap;\n",
       "    word-wrap: break-word;\n",
       "    word-break: break-all;\n",
       "    font-family: \"Source Code Pro\", \"Menlo\", monospace;;\n",
       "    font-size: 13px;\n",
       "    color: #555;\n",
       "    margin-left: 4px;\n",
       "    line-height: 19px;\n",
       "  }\n",
       "</style>\n",
       "<div class=\"ansiout\">Cluster Centers: \n",
       "[0.1 0.1 0.1]\n",
       "[9.1 9.1 9.1]\n",
       "</div>"
      ]
     },
     "metadata": {},
     "output_type": "display_data"
    }
   ],
   "source": [
    "# Shows the result. \n",
    "centers = model.clusterCenters()\n",
    "print(\"Cluster Centers: \")\n",
    "for center in centers:\n",
    "    print(center)"
   ]
  }
 ],
 "metadata": {
  "kernelspec": {
   "display_name": "Python 3",
   "language": "python",
   "name": "python3"
  },
  "language_info": {
   "codemirror_mode": {
    "name": "ipython",
    "version": 3
   },
   "file_extension": ".py",
   "mimetype": "text/x-python",
   "name": "python",
   "nbconvert_exporter": "python",
   "pygments_lexer": "ipython3",
   "version": "3.7.4"
  },
  "name": "stefano alli PRAI4 Kmeans_Avanzado",
  "notebookId": 4219571301775144,
  "toc": {
   "base_numbering": 1,
   "nav_menu": {},
   "number_sections": true,
   "sideBar": true,
   "skip_h1_title": false,
   "title_cell": "Table of Contents",
   "title_sidebar": "Contents",
   "toc_cell": true,
   "toc_position": {},
   "toc_section_display": true,
   "toc_window_display": false
  }
 },
 "nbformat": 4,
 "nbformat_minor": 1
}
